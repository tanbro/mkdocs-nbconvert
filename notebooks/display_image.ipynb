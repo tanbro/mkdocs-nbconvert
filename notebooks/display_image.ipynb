{
 "nbformat": 4,
 "nbformat_minor": 2,
 "metadata": {
  "language_info": {
   "name": "python",
   "codemirror_mode": {
    "name": "ipython",
    "version": 3
   },
   "version": "3.6.9-final"
  },
  "orig_nbformat": 2,
  "file_extension": ".py",
  "mimetype": "text/x-python",
  "name": "python",
  "npconvert_exporter": "python",
  "pygments_lexer": "ipython3",
  "version": 3,
  "kernelspec": {
   "name": "python36964bitvenvvenv250cfb25b1a646888b728bf142cd0905",
   "display_name": "Python 3.6.9 64-bit ('venv': venv)"
  }
 },
 "cells": [
  {
   "cell_type": "markdown",
   "execution_count": null,
   "metadata": {},
   "outputs": [],
   "source": [
    "# Display Image"
   ]
  },
  {
   "cell_type": "code",
   "execution_count": 3,
   "metadata": {},
   "outputs": [],
   "source": [
    "import json\n",
    "\n",
    "import requests\n",
    "\n",
    "from IPython.display import display, Image"
   ]
  },
  {
   "cell_type": "markdown",
   "execution_count": null,
   "metadata": {},
   "outputs": [],
   "source": [
    "## url"
   ]
  },
  {
   "cell_type": "code",
   "execution_count": 10,
   "metadata": {},
   "outputs": [
    {
     "data": {
      "text/plain": "'https://www.bing.com//th?id=OHR.ValGardena_ZH-CN3346883933_1920x1080.jpg&rf=LaDigue_1920x1080.jpg&pid=hp'"
     },
     "metadata": {},
     "output_type": "display_data"
    }
   ],
   "source": [
    "bing_image_data_url = 'https://www.bing.com/HPImageArchive.aspx?format=js&idx=0&n=1'\n",
    "\n",
    "bing_image_data = requests.get(bing_image_data_url,).json()\n",
    "image_url = 'https://www.bing.com/{}'.format(bing_image_data['images'][0]['url'])\n",
    "\n",
    "display(image_url)"
   ]
  },
  {
   "cell_type": "code",
   "execution_count": 14,
   "metadata": {},
   "outputs": [
    {
     "data": {
      "text/html": "<img src=\"https://www.bing.com//th?id=OHR.ValGardena_ZH-CN3346883933_1920x1080.jpg&rf=LaDigue_1920x1080.jpg&pid=hp\"/>",
      "text/plain": "<IPython.core.display.Image object>"
     },
     "metadata": {},
     "output_type": "display_data"
    }
   ],
   "source": [
    "img = Image(url=image_url)\n",
    "display(img)"
   ]
  },
  {
   "cell_type": "code",
   "execution_count": null,
   "metadata": {},
   "outputs": [],
   "source": []
  }
 ]
}