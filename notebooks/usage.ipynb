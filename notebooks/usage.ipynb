{
 "cells": [
  {
   "cell_type": "markdown",
   "metadata": {},
   "source": [
    "# Usage"
   ]
  },
  {
   "cell_type": "markdown",
   "metadata": {},
   "source": [
    "\n",
    "## mkdocs configuration"
   ]
  },
  {
   "cell_type": "markdown",
   "metadata": {},
   "source": [
    "Add the plugin into configuration's `plugins` attribute\n",
    "\n",
    "```yaml\n",
    "plugins:\n",
    "    - nbconvert\n",
    "```"
   ]
  },
  {
   "cell_type": "markdown",
   "metadata": {},
   "source": [
    "### Options"
   ]
  },
  {
   "cell_type": "markdown",
   "metadata": {},
   "source": [
    "- `input_dir`: Directory where to scan `*.ipynb` files\n",
    "\n",
    "  Either absolute or relative path.\n",
    "  When relative, it's from `mkdocs` configuration file's directory.\n",
    "\n",
    "  When omitted, default value is `notebooks`\n",
    "\n",
    "- `output_dir`: Export notebook files to markdown files in the directory.\n",
    "\n",
    "   It **MUST** be a **relative** path from `doc_dir`\n",
    "\n",
    "   When omitted, default value is `notebooks`\n",
    "\n",
    "- `recursive`: Whether scan `*.ipynb` files in subdirectories recursively\n",
    "\n",
    "  When omitted, default value is `false`\n",
    "\n",
    "  Only available for Python>=3.5\n",
    "\n",
    "Options can be add to configuration file as below:\n",
    "\n",
    "```yaml\n",
    "plugins:\n",
    "    - nbconvert:\n",
    "         input_dir: /path/of/notebooks/directory/\n",
    "         recursive: true\n",
    "         output_dir: nb\n",
    "```"
   ]
  },
  {
   "cell_type": "markdown",
   "metadata": {},
   "source": [
    "## Nav"
   ]
  },
  {
   "cell_type": "markdown",
   "metadata": {},
   "source": [
    "In `nav` section, add `*.ipynb` files as normal markdown files with replacing extension `*.ipynb` to `*.md`, since they're converted to markdown into `output_dir`.\n",
    "\n",
    "For this project, it's directory structure is as below:"
   ]
  },
  {
   "cell_type": "code",
   "execution_count": 1,
   "metadata": {},
   "outputs": [
    {
     "name": "stdout",
     "output_type": "stream",
     "text": [
      "\u001b[01;34m.\u001b[00m\n",
      "├── \u001b[01;32mAUTHORS.md\u001b[00m\n",
      "├── CHANGELOG.md\n",
      "├── \u001b[01;32mCONTRIBUTING.md\u001b[00m\n",
      "├── \u001b[01;34mdocs\u001b[00m\n",
      "│   └── \u001b[01;36mREADME.md\u001b[00m -> ../README.md\n",
      "├── MANIFEST.in\n",
      "├── mkdocs.yml\n",
      "├── \u001b[01;34mnotebooks\u001b[00m\n",
      "│   ├── image.ipynb\n",
      "│   ├── installation.ipynb\n",
      "│   ├── matplotlib.ipynb\n",
      "│   └── usage.ipynb\n",
      "├── README.md\n",
      "├── \u001b[01;34mrequires\u001b[00m\n",
      "│   └── dev.txt\n",
      "├── setup.py\n",
      "├── \u001b[01;34msite\u001b[00m\n",
      "├── \u001b[01;34msrc\u001b[00m\n",
      "│   ├── \u001b[01;34mmkdocs_nbconvert\u001b[00m\n",
      "│   └── \u001b[01;34mmkdocs_nbconvert.egg-info\u001b[00m\n",
      "└── \u001b[01;34mstatic\u001b[00m\n",
      "    └── \u001b[01;35mimg_01.jpeg\u001b[00m\n",
      "\n",
      "8 directories, 14 files\n"
     ]
    }
   ],
   "source": [
    "!tree -L 2 -I venv -I venv"
   ]
  },
  {
   "cell_type": "markdown",
   "metadata": {},
   "source": [
    "We put markdown files in `docs/`, and jupyter notebook files in `notebooks/`.\n",
    "\n",
    "The `mkdocs.yml` of the project is:"
   ]
  },
  {
   "cell_type": "code",
   "execution_count": 2,
   "metadata": {},
   "outputs": [
    {
     "name": "stdout",
     "output_type": "stream",
     "text": [
      "\u001b[94msite_name\u001b[39;49;00m: MkDocs-nbconvert\n",
      "\u001b[94mrepo_url\u001b[39;49;00m: https://github.com/tanbro/mkdocs-nbconvert\n",
      "\n",
      "\u001b[94muse_directory_urls\u001b[39;49;00m: false\n",
      "\n",
      "\u001b[94mnav\u001b[39;49;00m:\n",
      "    - \u001b[94mREADME\u001b[39;49;00m: README.md\n",
      "    - \u001b[94mNotebooks\u001b[39;49;00m:\n",
      "          - notebooks/installation.md\n",
      "          - notebooks/usage.md\n",
      "          - notebooks/image.md\n",
      "          - notebooks/matplotlib.md\n",
      "\n",
      "\u001b[94mplugins\u001b[39;49;00m:\n",
      "    - search\n",
      "    - \u001b[94mwith-pdf\u001b[39;49;00m:\n",
      "          \u001b[94menabled_if_env\u001b[39;49;00m: ENABLE_PDF_EXPORT\n",
      "    - \u001b[94mnbconvert\u001b[39;49;00m:\n",
      "          \u001b[94minput_dir\u001b[39;49;00m: notebooks\n",
      "          \u001b[94moutput_dir\u001b[39;49;00m: notebooks\n",
      "\n",
      "\u001b[94mtheme\u001b[39;49;00m:\n",
      "    \u001b[94mname\u001b[39;49;00m: material\n",
      "    \u001b[94mfeatures\u001b[39;49;00m:\n",
      "        - navigation.sections\n",
      "        - navigation.tabs\n",
      "        - navigation.top\n",
      "    \u001b[94mpalette\u001b[39;49;00m:\n",
      "        - \u001b[94mmedia\u001b[39;49;00m: \u001b[33m\"\u001b[39;49;00m\u001b[33m(prefers-color-scheme:\u001b[39;49;00m\u001b[31m \u001b[39;49;00m\u001b[33mlight)\u001b[39;49;00m\u001b[33m\"\u001b[39;49;00m\n",
      "          \u001b[94mscheme\u001b[39;49;00m: default\n",
      "          \u001b[94mtoggle\u001b[39;49;00m:\n",
      "              \u001b[94micon\u001b[39;49;00m: material/weather-night\n",
      "              \u001b[94mname\u001b[39;49;00m: switch to dark mode 🌙\n",
      "        - \u001b[94mmedia\u001b[39;49;00m: \u001b[33m\"\u001b[39;49;00m\u001b[33m(prefers-color-scheme:\u001b[39;49;00m\u001b[31m \u001b[39;49;00m\u001b[33mdark)\u001b[39;49;00m\u001b[33m\"\u001b[39;49;00m\n",
      "          \u001b[94mscheme\u001b[39;49;00m: slate\n",
      "          \u001b[94mprimary\u001b[39;49;00m: light blue\n",
      "          \u001b[94maccent\u001b[39;49;00m: light blue\n",
      "          \u001b[94mtoggle\u001b[39;49;00m:\n",
      "              \u001b[94micon\u001b[39;49;00m: material/weather-sunny\n",
      "              \u001b[94mname\u001b[39;49;00m: switch to light mode 🌞\n",
      "\n",
      "\u001b[94mmarkdown_extensions\u001b[39;49;00m:\n",
      "    - pymdownx.extra\n",
      "    \u001b[37m### pymdownx.extra replaces markdown.extensions.extra, Here is the full list of included extensions:\u001b[39;49;00m\n",
      "    \u001b[37m## pymdownx.betterem\u001b[39;49;00m\n",
      "    \u001b[37m## pymdownx.superfences\u001b[39;49;00m\n",
      "    \u001b[37m## markdown.extensions.footnotes\u001b[39;49;00m\n",
      "    \u001b[37m## markdown.extensions.attr_list\u001b[39;49;00m\n",
      "    \u001b[37m## markdown.extensions.def_list\u001b[39;49;00m\n",
      "    \u001b[37m## markdown.extensions.tables\u001b[39;49;00m\n",
      "    \u001b[37m## markdown.extensions.abbr\u001b[39;49;00m\n",
      "    \u001b[37m## markdown.extensions.md_in_html\u001b[39;49;00m\n",
      "    - pymdownx.highlight\n",
      "    - pymdownx.details\n",
      "    - pymdownx.saneheaders\n",
      "    - pymdownx.smartsymbols\n",
      "    - \u001b[94mpymdownx.critic\u001b[39;49;00m:\n",
      "          \u001b[94mmode\u001b[39;49;00m: view\n",
      "    - pymdownx.snippets\n",
      "    - pymdownx.caret\n",
      "    - pymdownx.mark\n",
      "    - pymdownx.tilde\n",
      "    - pymdownx.smartsymbols\n",
      "    \u001b[37m# Officially Supported Extensions\u001b[39;49;00m\n",
      "    - admonition\n",
      "    - meta\n",
      "    \u001b[37m# - sane_lists:\u001b[39;49;00m\n",
      "    \u001b[37m# - smarty:\u001b[39;49;00m\n",
      "    - \u001b[94mtoc\u001b[39;49;00m:\n",
      "          \u001b[94mpermalink\u001b[39;49;00m: true\n",
      "          \u001b[94mslugify\u001b[39;49;00m: \u001b[36m!!python/name:pymdownx.slugs.uslugify\u001b[39;49;00m\n"
     ]
    }
   ],
   "source": [
    "!pygmentize mkdocs.yml"
   ]
  },
  {
   "cell_type": "markdown",
   "metadata": {},
   "source": [
    "Attention the `nav` attribute: we write notebook files as `notebooks/*.md`.\n",
    "\n",
    "Because when building, the plugin call [nbconvert](https://pypi.org/project/nbconvert/) to convert them to markdown files, and save `*.md` files in `notebooks` dir, then remove converted `*.md` at the end of building."
   ]
  }
 ],
 "metadata": {
  "file_extension": ".py",
  "interpreter": {
   "hash": "1b489b747beea828bea5943723d3eee92f25d87b9fc00ed10205e87b9c039aa4"
  },
  "kernelspec": {
   "display_name": "Python 3.8.10 64-bit ('venv': venv)",
   "language": "python",
   "name": "python3"
  },
  "language_info": {
   "codemirror_mode": {
    "name": "ipython",
    "version": 3
   },
   "file_extension": ".py",
   "mimetype": "text/x-python",
   "name": "python",
   "nbconvert_exporter": "python",
   "pygments_lexer": "ipython3",
   "version": "3.8.10"
  },
  "mimetype": "text/x-python",
  "name": "python",
  "npconvert_exporter": "python",
  "orig_nbformat": 2,
  "pygments_lexer": "ipython3",
  "version": 3
 },
 "nbformat": 4,
 "nbformat_minor": 2
}
