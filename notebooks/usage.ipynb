{
 "cells": [
  {
   "attachments": {},
   "cell_type": "markdown",
   "metadata": {},
   "source": [
    "# Usage"
   ]
  },
  {
   "attachments": {},
   "cell_type": "markdown",
   "metadata": {},
   "source": [
    "\n",
    "## mkdocs configuration"
   ]
  },
  {
   "attachments": {},
   "cell_type": "markdown",
   "metadata": {},
   "source": [
    "Add the `nbconvert` into configuration file (`mkdocs.yml`)'s `plugins` list\n",
    "\n",
    "```yaml\n",
    "plugins:\n",
    "    - nbconvert\n",
    "```"
   ]
  },
  {
   "attachments": {},
   "cell_type": "markdown",
   "metadata": {},
   "source": [
    "### Options"
   ]
  },
  {
   "attachments": {},
   "cell_type": "markdown",
   "metadata": {},
   "source": [
    "- `input_dir`: Directory where to scan `*.ipynb` files\n",
    "\n",
    "    Either absolute or relative path.\n",
    "    When relative, it's from `mkdocs` configuration file's directory.\n",
    "    \n",
    "    When omitted, default value is `notebooks`\n",
    "\n",
    "- `output_dir`: Export notebook files to markdown files in the directory.\n",
    "\n",
    "    It **MUST** be a **relative** path to [`doc_dir`](https://www.mkdocs.org/user-guide/configuration/#docs_dir)\n",
    "    \n",
    "    When omitted, default value is `notebooks`.\n",
    "\n",
    "- `recursive`: Whether scan `*.ipynb` files in subdirectories recursively\n",
    "\n",
    "    When omitted, default value is `True`\n",
    "\n",
    "- `execute_enabled`: Whether executing notebooks before convert. `false` by default\n",
    "\n",
    "- `max_workers`: Number of concurrent threads used to process notebooks. Defaults to the number of CPU cores.\n",
    "\n",
    "- `execute_options`: Options for execution:\n",
    "\n",
    "    - `execute_options.run_path`: Specifies in which folder to execute the notebook. The plugin in will take `input_dir` as the path if not specified.\n",
    "\n",
    "    - `execute_options.kernel_name`: The execution kernel. When not specified, the default Python kernel is chosen.\n",
    "\n",
    "    - `execute_options.timeout`: The cell execution timeout. No timeout when not specified.\n",
    "\n",
    "    - `execute_options.write_back`: Whether save executed result to the notebook file. `false` by default.\n",
    "\n",
    "    - `exit_on_error`: Whether exit when an error occurred. Default is `true`.\n",
    "\n",
    "---\n",
    "\n",
    "Options can be add to configuration file as below:\n",
    "\n",
    "```yaml\n",
    "plugins:\n",
    "    - nbconvert:\n",
    "         input_dir: notebooks\n",
    "         recursive: true\n",
    "         output_dir: notebooks\n",
    "         execute_enabled: true\n",
    "         max_workers: 4\n",
    "         execute_options:\n",
    "             write_back: true\n",
    "```\n",
    "\n",
    "In the above example, the plugin recursively searches Jupyter notebook files in `{{project_dir}}\\notebooks`, then converts them to markdown files to `{{project_dir}}\\docs\\notebooks`, where `{{project_dir}}\\docs` is the default value of [`doc_dir`](https://www.mkdocs.org/user-guide/configuration/#docs_dir) configure. A pre-execution will be performed, and the running result will be saved to original notebook files. The conversion will be processed using 4 concurrent threads.\n"
   ]
  },
  {
   "attachments": {},
   "cell_type": "markdown",
   "metadata": {},
   "source": [
    "## Nav"
   ]
  },
  {
   "attachments": {},
   "cell_type": "markdown",
   "metadata": {},
   "source": [
    "In `nav` section, add `*.ipynb` files as normal markdown files with replacing extension `*.ipynb` to `*.md`, since they're converted to markdown files in `output_dir`:\n",
    "\n",
    "```yaml\n",
    "nav:\n",
    "    - index.md\n",
    "    - Notebooks:\n",
    "          - notebooks/installation.md\n",
    "          - notebooks/usage.md\n",
    "          - notebooks/image.md\n",
    "          - notebooks/matplotlib.md\n",
    "    - authors.md\n",
    "    - changelog.md\n",
    "```\n",
    "\n",
    "> **Warning:**\n",
    ">\n",
    "> converted `notebooks/*.md` files will be removed at the end of building."
   ]
  }
 ],
 "metadata": {
  "file_extension": ".py",
  "kernelspec": {
   "display_name": ".venv",
   "language": "python",
   "name": "python3"
  },
  "language_info": {
   "codemirror_mode": {
    "name": "ipython",
    "version": 3
   },
   "file_extension": ".py",
   "mimetype": "text/x-python",
   "name": "python",
   "nbconvert_exporter": "python",
   "pygments_lexer": "ipython3",
   "version": "3.12.3"
  },
  "mimetype": "text/x-python",
  "name": "python",
  "npconvert_exporter": "python",
  "pygments_lexer": "ipython3",
  "version": 3
 },
 "nbformat": 4,
 "nbformat_minor": 2
}
