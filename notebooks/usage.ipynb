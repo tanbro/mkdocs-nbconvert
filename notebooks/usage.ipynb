{
 "nbformat": 4,
 "nbformat_minor": 2,
 "metadata": {
  "language_info": {
   "name": "python",
   "codemirror_mode": {
    "name": "ipython",
    "version": 3
   }
  },
  "orig_nbformat": 2,
  "file_extension": ".py",
  "mimetype": "text/x-python",
  "name": "python",
  "npconvert_exporter": "python",
  "pygments_lexer": "ipython3",
  "version": 3
 },
 "cells": [
  {
   "cell_type": "markdown",
   "execution_count": null,
   "metadata": {},
   "outputs": [],
   "source": [
    "# Usage"
   ]
  },
  {
   "cell_type": "markdown",
   "execution_count": null,
   "metadata": {},
   "outputs": [],
   "source": [
    "\n",
    "## mkdocs configration"
   ]
  },
  {
   "cell_type": "markdown",
   "execution_count": null,
   "metadata": {},
   "outputs": [],
   "source": [
    "Add the plugin into configration's `plugins` attribute\n",
    "\n",
    "```yaml\n",
    "plugins:\n",
    "    - nbconvert\n",
    "```"
   ]
  },
  {
   "cell_type": "markdown",
   "execution_count": null,
   "metadata": {},
   "outputs": [],
   "source": [
    "### Options"
   ]
  },
  {
   "cell_type": "markdown",
   "execution_count": null,
   "metadata": {},
   "outputs": [],
   "source": [
    "- `input_dir`: Directory where to scan `*.ipynb` files\n",
    "\n",
    "  Either absolute or relative path.\n",
    "  When relative, it's from `mkdocs` configuration file's directory.\n",
    "\n",
    "  When omited, default value is `notebooks`\n",
    "\n",
    "- `output_dir`: Export notebook files to markdown files in the directory.\n",
    "\n",
    "   It **MUST** be a **relative** path from `doc_dir`\n",
    "\n",
    "   When omited, default value is `notebooks`\n",
    "\n",
    "- `recursive`: Whether scan `*.ipynb` files in subdirectories recursively\n",
    "\n",
    "  When omited, default value is `false`\n",
    "\n",
    "  Only availble for Python>=3.5\n",
    "\n",
    "Options can be add to configuration file as below:\n",
    "\n",
    "```yaml\n",
    "plugins:\n",
    "    - nbconvert:\n",
    "         input_dir: /path/of/notebooks/directory/\n",
    "         recursive: true\n",
    "         output_dir: nb\n",
    "```"
   ]
  },
  {
   "cell_type": "markdown",
   "execution_count": null,
   "metadata": {},
   "outputs": [],
   "source": [
    "## Nav"
   ]
  },
  {
   "cell_type": "markdown",
   "execution_count": null,
   "metadata": {},
   "outputs": [],
   "source": [
    "In `nav` section, add `*.ipynb` files as normal markdown files with replacing extension `*.ipynb` to `*.md`, since they're converted to markdown into `output_dir`.\n",
    "\n",
    "Eg:\n",
    "\n",
    "The project's file structure is:\n",
    "\n",
    "```sh\n",
    "$ tree -L 2\n",
    ".\n",
    "├── AUTHORS.md\n",
    "├── build\n",
    "│   ├── bdist.linux-x86_64\n",
    "│   └── lib\n",
    "├── CHANGELOG.md\n",
    "├── CONTRIBUTING.md\n",
    "├── dist\n",
    "│   ├── mkdocs_nbconvert-0.1-py3-none-any.whl\n",
    "│   └── mkdocs-nbconvert-0.1.tar.gz\n",
    "├── docs\n",
    "│   └── README.md -> ../README.md\n",
    "├── environment.yml\n",
    "├── LICENSE\n",
    "├── mkdocs.yml\n",
    "├── notebooks\n",
    "│   ├── display_image.ipynb\n",
    "│   ├── installation.ipynb\n",
    "│   └── usage.ipynb\n",
    "├── README.md\n",
    "├── requirements.txt\n",
    "├── setup.py\n",
    "├── site\n",
    "│   ├── 404.html\n",
    "│   ├── css\n",
    "│   ├── fonts\n",
    "│   ├── img\n",
    "│   ├── index.html\n",
    "│   ├── js\n",
    "│   ├── notebooks\n",
    "│   ├── sitemap.xml\n",
    "│   └── sitemap.xml.gz\n",
    "├── src\n",
    "│   ├── mkdocs_nbconvert\n",
    "│   └── mkdocs_nbconvert.egg-info\n",
    "├── static\n",
    "│   └── img_01.jpeg\n",
    "└── .venv\n",
    "```\n",
    "\n",
    "Content of `mkdocs.yml` is:\n",
    "\n",
    "```yaml\n",
    "site_name: MkDocs-nbconvert\n",
    "\n",
    "plugins:\n",
    "  - nbconvert:\n",
    "      input_dir: notebooks\n",
    "      output_dir: notebooks\n",
    "\n",
    "nav:\n",
    "  - README: README.md\n",
    "  - Notebooks:\n",
    "    - notebooks/installation.md\n",
    "    - notebooks/usage.md\n",
    "    - notebooks/display_image.md\n",
    "```\n"
   ]
  },
  {
   "cell_type": "code",
   "execution_count": null,
   "metadata": {},
   "outputs": [],
   "source": []
  }
 ]
}