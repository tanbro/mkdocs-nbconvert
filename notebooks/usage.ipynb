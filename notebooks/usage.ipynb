{
 "cells": [
  {
   "attachments": {},
   "cell_type": "markdown",
   "metadata": {},
   "source": [
    "# Usage"
   ]
  },
  {
   "attachments": {},
   "cell_type": "markdown",
   "metadata": {},
   "source": [
    "\n",
    "## mkdocs configuration"
   ]
  },
  {
   "attachments": {},
   "cell_type": "markdown",
   "metadata": {},
   "source": [
    "Add the plugin into configuration's `plugins` attribute\n",
    "\n",
    "```yaml\n",
    "plugins:\n",
    "    - nbconvert\n",
    "```"
   ]
  },
  {
   "attachments": {},
   "cell_type": "markdown",
   "metadata": {},
   "source": [
    "### Options"
   ]
  },
  {
   "attachments": {},
   "cell_type": "markdown",
   "metadata": {},
   "source": [
    "- `input_dir`: Directory where to scan `*.ipynb` files\n",
    "\n",
    "    Either absolute or relative path.\n",
    "    When relative, it's from `mkdocs` configuration file's directory.\n",
    "    \n",
    "    When omitted, default value is `notebooks`\n",
    "\n",
    "- `output_dir`: Export notebook files to markdown files in the directory.\n",
    "\n",
    "    It **MUST** be a **relative** path to [`doc_dir`](https://www.mkdocs.org/user-guide/configuration/#docs_dir)\n",
    "    \n",
    "    When omitted, default value is `notebooks`.\n",
    "\n",
    "- `recursive`: Whether scan `*.ipynb` files in subdirectories recursively\n",
    "\n",
    "    When omitted, default value is `True`\n",
    "\n",
    "- `execute_enabled`: Whether executing notebooks before convert. `false` by default\n",
    "\n",
    "- `execute_options`: Options for execution:\n",
    "\n",
    "    - `execute_options.run_path`: working directory when execute the notebook. The plugin in will take `input_dir` as the path if omitted.\n",
    "\n",
    "    - `execute_options.kernel_name`: Which Jupyter kernel to run the notebook. Current environment will be used if omitted.\n",
    "\n",
    "    - `execute_options.timeout`: Timeout of the notebook's execution. No timeout if omitted.\n",
    "\n",
    "    - `execute_options.write_back`: Whether save executed result to the notebook file. `false` by default.\n",
    "\n",
    "Options can be add to configuration file as below:\n",
    "\n",
    "```yaml\n",
    "plugins:\n",
    "    - nbconvert:\n",
    "         input_dir: notebooks\n",
    "         recursive: true\n",
    "         output_dir: notebooks\n",
    "         execute_enabled: true\n",
    "         execute_options:\n",
    "             write_back: true\n",
    "```\n",
    "\n",
    "In the above example, the plugin will open Jupyter notebook file in `{{project_dir}}\\notebooks`, then convert them to markdown files to `{{project_dir}}\\docs\\notebooks`, in which `docs` is the default value of [`doc_dir`](https://www.mkdocs.org/user-guide/configuration/#docs_dir).\n",
    "A pre-execution will be performed, and the running result will be saved to notebook files.\n"
   ]
  },
  {
   "attachments": {},
   "cell_type": "markdown",
   "metadata": {},
   "source": [
    "## Nav"
   ]
  },
  {
   "attachments": {},
   "cell_type": "markdown",
   "metadata": {},
   "source": [
    "In `nav` section, add `*.ipynb` files as normal markdown files with replacing extension `*.ipynb` to `*.md`, since they're converted to markdown into `output_dir`.\n",
    "\n",
    "For this project, it's directory structure is as below:"
   ]
  },
  {
   "cell_type": "code",
   "execution_count": null,
   "metadata": {},
   "outputs": [],
   "source": [
    "!tree -L 2 -I venv"
   ]
  },
  {
   "attachments": {},
   "cell_type": "markdown",
   "metadata": {},
   "source": [
    "We put markdown files in `docs/`, and jupyter notebook files in `notebooks/`.\n",
    "\n",
    "The `mkdocs.yml` of the project is:"
   ]
  },
  {
   "cell_type": "code",
   "execution_count": null,
   "metadata": {},
   "outputs": [],
   "source": [
    "!pygmentize ../mkdocs.yml"
   ]
  },
  {
   "attachments": {},
   "cell_type": "markdown",
   "metadata": {},
   "source": [
    "Attention the `nav` attribute: we write notebook files as `notebooks/*.md`.\n",
    "\n",
    "Because when building, the plugin call [nbconvert](https://pypi.org/project/nbconvert/) to convert them to markdown files, and save `*.md` files in `notebooks` dir, then remove converted `*.md` at the end of building."
   ]
  }
 ],
 "metadata": {
  "file_extension": ".py",
  "interpreter": {
   "hash": "1b489b747beea828bea5943723d3eee92f25d87b9fc00ed10205e87b9c039aa4"
  },
  "kernelspec": {
   "display_name": "Python 3.8.10 64-bit ('venv': venv)",
   "language": "python",
   "name": "python3"
  },
  "language_info": {
   "codemirror_mode": {
    "name": "ipython",
    "version": 3
   },
   "file_extension": ".py",
   "mimetype": "text/x-python",
   "name": "python",
   "nbconvert_exporter": "python",
   "pygments_lexer": "ipython3",
   "version": "3.11.4"
  },
  "mimetype": "text/x-python",
  "name": "python",
  "npconvert_exporter": "python",
  "pygments_lexer": "ipython3",
  "version": 3
 },
 "nbformat": 4,
 "nbformat_minor": 2
}
