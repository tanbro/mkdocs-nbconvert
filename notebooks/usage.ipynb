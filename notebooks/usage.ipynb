{
 "cells": [
  {
   "attachments": {},
   "cell_type": "markdown",
   "metadata": {},
   "source": [
    "# Usage"
   ]
  },
  {
   "attachments": {},
   "cell_type": "markdown",
   "metadata": {},
   "source": [
    "\n",
    "## mkdocs configuration"
   ]
  },
  {
   "attachments": {},
   "cell_type": "markdown",
   "metadata": {},
   "source": [
    "Add the plugin into configuration's `plugins` attribute\n",
    "\n",
    "```yaml\n",
    "plugins:\n",
    "    - nbconvert\n",
    "```"
   ]
  },
  {
   "attachments": {},
   "cell_type": "markdown",
   "metadata": {},
   "source": [
    "### Options"
   ]
  },
  {
   "attachments": {},
   "cell_type": "markdown",
   "metadata": {},
   "source": [
    "- `input_dir`: Directory where to scan `*.ipynb` files\n",
    "\n",
    "  Either absolute or relative path.\n",
    "  When relative, it's from `mkdocs` configuration file's directory.\n",
    "\n",
    "  When omitted, default value is `notebooks`\n",
    "\n",
    "- `output_dir`: Export notebook files to markdown files in the directory.\n",
    "\n",
    "   It **MUST** be a **relative** path from `doc_dir`\n",
    "\n",
    "   When omitted, default value is `notebooks`\n",
    "\n",
    "- `recursive`: Whether scan `*.ipynb` files in subdirectories recursively\n",
    "\n",
    "  When omitted, default value is `True`\n",
    "\n",
    "Options can be add to configuration file as below:\n",
    "\n",
    "```yaml\n",
    "plugins:\n",
    "    - nbconvert:\n",
    "         input_dir: /path/of/notebooks/directory/\n",
    "         recursive: true\n",
    "         output_dir: nb\n",
    "```"
   ]
  },
  {
   "attachments": {},
   "cell_type": "markdown",
   "metadata": {},
   "source": [
    "## Nav"
   ]
  },
  {
   "attachments": {},
   "cell_type": "markdown",
   "metadata": {},
   "source": [
    "In `nav` section, add `*.ipynb` files as normal markdown files with replacing extension `*.ipynb` to `*.md`, since they're converted to markdown into `output_dir`.\n",
    "\n",
    "For this project, it's directory structure is as below:"
   ]
  },
  {
   "cell_type": "code",
   "execution_count": 1,
   "metadata": {},
   "outputs": [
    {
     "name": "stdout",
     "output_type": "stream",
     "text": [
      "����̫�� - 2\n"
     ]
    }
   ],
   "source": [
    "!tree -L 2 -I venv"
   ]
  },
  {
   "attachments": {},
   "cell_type": "markdown",
   "metadata": {},
   "source": [
    "We put markdown files in `docs/`, and jupyter notebook files in `notebooks/`.\n",
    "\n",
    "The `mkdocs.yml` of the project is:"
   ]
  },
  {
   "cell_type": "code",
   "execution_count": 2,
   "metadata": {},
   "outputs": [
    {
     "name": "stdout",
     "output_type": "stream",
     "text": [
      "site_name: MkDocs-nbconvert\n",
      "repo_url: https://github.com/tanbro/mkdocs-nbconvert\n",
      "\n",
      "use_directory_urls: false\n",
      "\n",
      "nav:\n",
      "    - README: README.md\n",
      "    - Notebooks:\n",
      "          - notebooks/installation.md\n",
      "          - notebooks/usage.md\n",
      "          - notebooks/image.md\n",
      "          - notebooks/matplotlib.md\n",
      "\n",
      "plugins:\n",
      "    - search\n",
      "    - nbconvert:\n",
      "          input_dir: notebooks\n",
      "          output_dir: notebooks\n",
      "\n",
      "theme:\n",
      "    name: material\n",
      "    features:\n",
      "        - navigation.sections\n",
      "        - navigation.tabs\n",
      "        - navigation.top\n",
      "    palette:\n",
      "        - media: \"(prefers-color-scheme: light)\"\n",
      "          scheme: default\n",
      "          toggle:\n",
      "              icon: material/weather-night\n",
      "              name: switch to dark mode 🌙\n",
      "        - media: \"(prefers-color-scheme: dark)\"\n",
      "          scheme: slate\n",
      "          primary: light blue\n",
      "          accent: light blue\n",
      "          toggle:\n",
      "              icon: material/weather-sunny\n",
      "              name: switch to light mode 🌞\n",
      "\n",
      "markdown_extensions:\n",
      "    - pymdownx.extra\n",
      "    ### pymdownx.extra replaces markdown.extensions.extra, Here is the full list of included extensions:\n",
      "    ## pymdownx.betterem\n",
      "    ## pymdownx.superfences\n",
      "    ## markdown.extensions.footnotes\n",
      "    ## markdown.extensions.attr_list\n",
      "    ## markdown.extensions.def_list\n",
      "    ## markdown.extensions.tables\n",
      "    ## markdown.extensions.abbr\n",
      "    ## markdown.extensions.md_in_html\n",
      "    - pymdownx.highlight\n",
      "    - pymdownx.details\n",
      "    - pymdownx.saneheaders\n",
      "    - pymdownx.smartsymbols\n",
      "    - pymdownx.critic:\n",
      "          mode: view\n",
      "    - pymdownx.snippets\n",
      "    - pymdownx.caret\n",
      "    - pymdownx.mark\n",
      "    - pymdownx.tilde\n",
      "    - pymdownx.smartsymbols\n",
      "    # Officially Supported Extensions\n",
      "    - admonition\n",
      "    - meta\n",
      "    # - sane_lists:\n",
      "    # - smarty:\n",
      "    - toc:\n",
      "          permalink: true\n",
      "          slugify: !!python/name:pymdownx.slugs.uslugify\n"
     ]
    }
   ],
   "source": [
    "!pygmentize ../mkdocs.yml"
   ]
  },
  {
   "attachments": {},
   "cell_type": "markdown",
   "metadata": {},
   "source": [
    "Attention the `nav` attribute: we write notebook files as `notebooks/*.md`.\n",
    "\n",
    "Because when building, the plugin call [nbconvert](https://pypi.org/project/nbconvert/) to convert them to markdown files, and save `*.md` files in `notebooks` dir, then remove converted `*.md` at the end of building."
   ]
  }
 ],
 "metadata": {
  "file_extension": ".py",
  "interpreter": {
   "hash": "1b489b747beea828bea5943723d3eee92f25d87b9fc00ed10205e87b9c039aa4"
  },
  "kernelspec": {
   "display_name": "Python 3.8.10 64-bit ('venv': venv)",
   "language": "python",
   "name": "python3"
  },
  "language_info": {
   "codemirror_mode": {
    "name": "ipython",
    "version": 3
   },
   "file_extension": ".py",
   "mimetype": "text/x-python",
   "name": "python",
   "nbconvert_exporter": "python",
   "pygments_lexer": "ipython3",
   "version": "3.11.4"
  },
  "mimetype": "text/x-python",
  "name": "python",
  "npconvert_exporter": "python",
  "orig_nbformat": 2,
  "pygments_lexer": "ipython3",
  "version": 3
 },
 "nbformat": 4,
 "nbformat_minor": 2
}
